{
  "nbformat": 4,
  "nbformat_minor": 0,
  "metadata": {
    "colab": {
      "name": "UsandoNumpy.ipynb",
      "provenance": [],
      "authorship_tag": "ABX9TyP6CfMAcybgNTicVhXYGZo6"
    },
    "kernelspec": {
      "name": "python3",
      "display_name": "Python 3"
    },
    "language_info": {
      "name": "python"
    }
  },
  "cells": [
    {
      "cell_type": "code",
      "metadata": {
        "id": "xyCZm_TG3H1N"
      },
      "source": [
        "import numpy as np\n",
        "from numpy import random\n",
        "import statistics as st"
      ],
      "execution_count": null,
      "outputs": []
    },
    {
      "cell_type": "code",
      "metadata": {
        "colab": {
          "base_uri": "https://localhost:8080/"
        },
        "id": "ue2WIXn33Lax",
        "outputId": "e10397e4-2cb0-4e91-c2bf-8871fdfbbe8f"
      },
      "source": [
        "\n",
        "matriz = random.randint(1,10,size = 10)\n",
        "matriz.sort()\n",
        "matriz"
      ],
      "execution_count": null,
      "outputs": [
        {
          "output_type": "execute_result",
          "data": {
            "text/plain": [
              "array([2, 3, 4, 4, 4, 4, 5, 5, 6, 9])"
            ]
          },
          "metadata": {
            "tags": []
          },
          "execution_count": 49
        }
      ]
    },
    {
      "cell_type": "code",
      "metadata": {
        "colab": {
          "base_uri": "https://localhost:8080/"
        },
        "id": "WsVedBKZBG0f",
        "outputId": "792a7e8c-a419-4e0f-da32-eb288e047236"
      },
      "source": [
        "\n",
        "#f'Media: {st.mean(matriz)} do array :{matriz}'\n",
        "#f'Mediana: {st.median(matriz)} do array :{matriz}'\n",
        "try:\n",
        "  print(f'Moda:{st.mode(matriz)} do array :{matriz}')\n",
        "except:\n",
        "  print(f'Sem moda') \n"
      ],
      "execution_count": null,
      "outputs": [
        {
          "output_type": "stream",
          "text": [
            "Moda:4 do array :[2 3 4 4 4 4 5 5 6 9]\n"
          ],
          "name": "stdout"
        }
      ]
    },
    {
      "cell_type": "code",
      "metadata": {
        "colab": {
          "base_uri": "https://localhost:8080/"
        },
        "id": "K43yAuMrEFzm",
        "outputId": "7d5d1eca-645e-4df6-8603-e9986b7d371e"
      },
      "source": [
        "bid = np.random.rand()\n",
        "bid\n",
        "#bid = random.uniform(1,5,(12,30))\n",
        "#matriz_12_x_30"
      ],
      "execution_count": null,
      "outputs": [
        {
          "output_type": "execute_result",
          "data": {
            "text/plain": [
              "0.366570641949702"
            ]
          },
          "metadata": {
            "tags": []
          },
          "execution_count": 47
        }
      ]
    }
  ]
}